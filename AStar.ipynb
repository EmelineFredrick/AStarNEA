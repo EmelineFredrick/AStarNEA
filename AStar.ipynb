{
 "cells": [
  {
   "cell_type": "code",
   "execution_count": 1,
   "metadata": {},
   "outputs": [],
   "source": [
    "import TubeAStar\n",
    "import StationGraph\n",
    "from IPython.display import display\n",
    "from __future__ import print_function\n",
    "from ipywidgets import interact, interactive, fixed, interact_manual\n",
    "import ipywidgets as widgets"
   ]
  },
  {
   "cell_type": "markdown",
   "metadata": {},
   "source": [
    "I structured my project into three source files and two data files. The data files came from (put in link here). The three source files are a unit test file I used to test my implmentation, a file to load the network information from the data files, and the main AStar implemetation. Given a starting and ending tube ID it returns the path from the end back to the beginning."
   ]
  },
  {
   "cell_type": "markdown",
   "metadata": {},
   "source": [
    "# Testing\n",
    "Bank station is ID 13. Can we find the path from Bank to itself?"
   ]
  },
  {
   "cell_type": "code",
   "execution_count": 2,
   "metadata": {},
   "outputs": [
    {
     "name": "stdout",
     "output_type": "stream",
     "text": [
      "['13']\n"
     ]
    }
   ],
   "source": [
    "result = TubeAStar.AStar(\"13\", \"13\")\n",
    "print(result)"
   ]
  },
  {
   "cell_type": "markdown",
   "metadata": {},
   "source": [
    "Angel Station has ID of 7."
   ]
  },
  {
   "cell_type": "code",
   "execution_count": 3,
   "metadata": {},
   "outputs": [
    {
     "name": "stdout",
     "output_type": "stream",
     "text": [
      "['7', '188', '167', '13']\n"
     ]
    }
   ],
   "source": [
    "result = TubeAStar.AStar(\"13\", \"7\")\n",
    "print(result)"
   ]
  },
  {
   "cell_type": "markdown",
   "metadata": {},
   "source": [
    "For humans we want names"
   ]
  },
  {
   "cell_type": "code",
   "execution_count": 4,
   "metadata": {},
   "outputs": [
    {
     "name": "stdout",
     "output_type": "stream",
     "text": [
      "13\n"
     ]
    }
   ],
   "source": [
    "nameToId = StationGraph.getNameToId()\n",
    "print(nameToId[\"Bank\"])"
   ]
  },
  {
   "cell_type": "markdown",
   "metadata": {},
   "source": [
    "# Interactive Use (GUI)"
   ]
  },
  {
   "cell_type": "code",
   "execution_count": 11,
   "metadata": {
    "scrolled": true
   },
   "outputs": [
    {
     "data": {
      "application/vnd.jupyter.widget-view+json": {
       "model_id": "def4bd7528964304923a836a1c843f1f",
       "version_major": 2,
       "version_minor": 0
      },
      "text/html": [
       "<p>Failed to display Jupyter Widget of type <code>interactive</code>.</p>\n",
       "<p>\n",
       "  If you're reading this message in the Jupyter Notebook or JupyterLab Notebook, it may mean\n",
       "  that the widgets JavaScript is still loading. If this message persists, it\n",
       "  likely means that the widgets JavaScript library is either not installed or\n",
       "  not enabled. See the <a href=\"https://ipywidgets.readthedocs.io/en/stable/user_install.html\">Jupyter\n",
       "  Widgets Documentation</a> for setup instructions.\n",
       "</p>\n",
       "<p>\n",
       "  If you're reading this message in another frontend (for example, a static\n",
       "  rendering on GitHub or <a href=\"https://nbviewer.jupyter.org/\">NBViewer</a>),\n",
       "  it may mean that your frontend doesn't currently support widgets.\n",
       "</p>\n"
      ],
      "text/plain": [
       "interactive(children=(Dropdown(description='startingStation', options={'Acton Town': '1', 'Aldgate': '2', 'Aldgate East': '3', 'All Saints': '4', 'Alperton': '5', 'Angel': '7', 'Archway': '8', 'Arnos Grove': '9', 'Arsenal': '10', 'Baker Street': '11', 'Balham': '12', 'Bank': '13', 'Barbican': '14', 'Barking': '15', 'Barkingside': '16', 'Barons Court': '17', 'Bayswater': '18', 'Beckton': '19', 'Beckton Park': '20', 'Becontree': '21', 'Belsize Park': '22', 'Bethnal Green': '24', 'Blackfriars': '25', 'Blackhorse Road': '26', 'Blackwall': '27', 'Bond Street': '28', 'Borough': '29', 'Boston Manor': '30', 'Bounds Green': '31', 'Bow Church': '32', 'Bow Road': '33', 'Brent Cross': '34', 'Bromley-By-Bow': '36', 'Burnt Oak': '38', 'Caledonian Road': '39', 'Camden Town': '40', 'Canary Wharf': '42', 'Cannon Street': '44', 'Canons Park': '45', 'Chalk Farm': '47', 'Chancery Lane': '48', 'Charing Cross': '49', 'Chigwell': '51', 'Chiswick Park': '52', 'Clapham Common': '54', 'Clapham North': '55', 'Clapham South': '56', 'Colindale': '58', 'Colliers Wood': '59', 'Covent Garden': '60', 'Crossharbour & London Arena': '61', 'Custom House': '63', 'Cyprus': '65', 'Dagenham East': '66', 'Dagenham Heathway': '67', 'Devons Road': '70', 'Dollis Hill': '71', 'Ealing Broadway': '72', 'Ealing Common': '73', \"Earl's Court\": '74', 'Eastcote': '75', 'East Acton': '76', 'East Finchley': '77', 'East Ham': '78', 'East India': '79', 'East Putney': '80', 'Edgware': '81', 'Edgware Road (B)': '82', 'Edgware Road (C)': '83', 'Elephant & Castle': '84', 'Elm Park': '85', 'Embankment': '87', 'Euston': '89', 'Euston Square': '90', 'Fairlop': '91', 'Farringdon': '92', 'Finchley Central': '93', 'Finchley Road': '94', 'Finsbury Park': '95', 'Fulham Broadway': '96', 'Gallions Reach': '97', 'Gants Hill': '98', 'Gloucester Road': '99', 'Golders Green': '100', 'Goldhawk Road': '101', 'Goodge Street': '102', 'Grange Hill': '103', 'Great Portland Street': '104', 'Greenford': '105', 'Green Park': '107', 'Gunnersbury': '108', 'Hainault': '109', 'Hammersmith': '110', 'Hampstead': '111', 'Hanger Lane': '112', 'Harlesden': '113', 'Harrow & Wealdston': '114', 'Harrow-on-the-Hill': '115', 'Hatton Cross': '116', 'Heathrow Terminals 1, 2 & 3': '117', 'Heathrow Terminal 4': '118', 'Hendon Central': '119', 'Heron Quays': '120', 'High Street Kensington': '122', 'Highbury & Islington': '123', 'Highgate': '124', 'Hillingdon': '125', 'Holborn': '126', 'Holland Park': '127', 'Holloway Road': '128', 'Hornchurch': '129', 'Hounslow Central': '130', 'Hounslow East': '131', 'Hounslow West': '132', 'Hyde Park Corner': '133', 'Ickenham': '134', 'Island Gardens': '135', 'Kennington': '136', 'Kensal Green': '137', 'Kensington (Olympia)': '138', 'Kentish Town': '139', 'Kenton': '140', 'Kew Gardens': '141', 'Kilburn': '142', 'Kilburn Park': '143', 'Kingsbury': '144', \"King's Cross St. Pancras\": '145', 'Knightsbridge': '146', 'Ladbroke Grove': '147', 'Lambeth North': '148', 'Lancaster Gate': '149', 'Latimer Road': '150', 'Leicester Square': '151', 'Leyton': '153', 'Leytonstone': '154', 'Limehouse': '155', 'Liverpool Street': '156', 'London Bridge': '157', 'Maida Vale': '159', 'Manor House': '160', 'Mansion House': '161', 'Marble Arch': '162', 'Marylebone': '163', 'Mile End': '164', 'Mill Hill East': '165', 'Monument': '166', 'Moorgate': '167', 'Moor Park': '168', 'Morden': '169', 'Mornington Crescent': '170', 'Mudchute': '171', 'Neasden': '172', 'Newbury Park': '173', 'Northfields': '176', 'Northolt': '177', 'Northwick Park': '178', 'Northwood': '179', 'Northwood Hills': '180', 'North Acton': '181', 'North Ealing': '182', 'North Harrow': '184', 'North Wembley': '185', 'Notting Hill Gate': '186', 'Old Street': '188', 'Osterley': '190', 'Oval': '191', 'Oxford Circus': '192', 'Paddington': '193', 'Park Royal': '194', 'Parsons Green': '195', 'Perivale': '196', 'Picadilly Circus': '197', 'Pimlico': '198', 'Pinner': '199', 'Plaistow': '200', 'Poplar': '201', 'Preston Road': '202', 'Prince Regent': '203', 'Putney Bridge': '205', \"Queen's Park\": '206', 'Queensbury': '207', 'Queensway': '208', 'Ravenscourt Park': '209', 'Rayners Lane': '210', 'Redbridge': '211', \"Regent's Park\": '212', 'Richmond': '213', 'Roding Valley': '215', 'Rotherhithe': '216', 'Royal Albert': '217', 'Royal Oak': '218', 'Royal Victoria': '219', 'Ruislip': '220', 'Ruislip Manor': '222', 'Russell Square': '223', 'Seven Sisters': '224', 'Shadwell': '225', \"Shepherd's Bush (C)\": '226', \"Shepherd's Bush (H)\": '227', 'Shoreditch': '228', 'Sloane Square': '229', 'Snaresbrook': '230', 'Southfields': '231', 'South Ealing': '234', 'South Harrow': '235', 'South Kensington': '236', 'South Kenton': '237', 'South Quay': '238', 'South Ruislip': '239', 'South Wimbledon': '240', 'South Woodford': '241', 'Stamford Brook': '242', 'Stanmore': '243', 'Stepney Green': '244', 'Stockwell': '245', 'Stonebridge Park': '246', 'Stratford': '247', \"St. James's Park\": '248', \"St. John's Wood\": '249', \"St. Paul's\": '250', 'Sudbury Hill': '251', 'Sudbury Town': '252', 'Surrey Quays': '253', 'Swiss Cottage': '254', 'Temple': '255', 'Tooting Bec': '257', 'Tooting Broadway': '258', 'Tottenham Court Road': '259', 'Tottenham Hale': '260', 'Tower Gateway': '262', 'Tower Hill': '263', 'Tufnell Park': '264', 'Turnham Green': '265', 'Turnpike Lane': '266', 'Upminster': '267', 'Upminster Bridge': '268', 'Upney': '269', 'Upton Park': '270', 'Uxbridge': '271', 'Vauxhall': '272', 'Victoria': '273', 'Walthamstow Central': '274', 'Wanstead': '275', 'Wapping': '276', 'Warren Street': '277', 'Warwick Avenue': '278', 'Waterloo': '279', 'Wembley Central': '281', 'Wembley Park': '282', 'Westbourne Park': '283', 'Westferry': '284', 'Westminster': '285', 'West Acton': '286', 'West Brompton': '287', 'West Finchley': '288', 'West Ham': '289', 'West Hampstead': '290', 'West Harrow': '291', 'West India Quay': '292', 'West Kensington': '293', 'West Ruislip': '294', 'Whitechapel': '295', 'White City': '296', 'Willesden Green': '297', 'Willesden Junction': '298', 'Wimbledon': '299', 'Wimbledon Park': '300', 'Woodford': '301', 'Woodside Park': '302', 'Wood Green': '303', 'Brixton': '35', 'Amersham': '6', 'Bermondsey': '23', 'Chesham': '50', 'Chalfont & Latimer': '46', 'Chorleywood': '53', 'Rickmansworth': '214', 'Croxley': '62', 'Watford': '280', 'Ruislip Gardens': '221', 'High Barnet': '121', 'Totteridge & Whetstone': '261', 'Cockfosters': '57', 'Oakwood': '187', 'Southgate': '232', 'Epping': '88', 'Theydon Bois': '256', 'Debden': '68', 'Loughton': '158', 'Buckhurst Hill': '37', 'Pudding Mill Lane': '204', 'Southwark': '233', 'Canada Water': '41', 'Canning Town': '43', 'North Greenwich': '183', 'Cutty Sark': '64', 'Greenwich': '106', 'Deptford Bridge': '69', 'Elverson Road': '86', 'Lewisham': '152', 'New Cross': '174', 'New Cross Gate': '175'}, value='1'), Output()), _dom_classes=('widget-interact',))"
      ]
     },
     "metadata": {},
     "output_type": "display_data"
    },
    {
     "data": {
      "application/vnd.jupyter.widget-view+json": {
       "model_id": "d1b04595a865418bb517d91e0ebf026b",
       "version_major": 2,
       "version_minor": 0
      },
      "text/html": [
       "<p>Failed to display Jupyter Widget of type <code>interactive</code>.</p>\n",
       "<p>\n",
       "  If you're reading this message in the Jupyter Notebook or JupyterLab Notebook, it may mean\n",
       "  that the widgets JavaScript is still loading. If this message persists, it\n",
       "  likely means that the widgets JavaScript library is either not installed or\n",
       "  not enabled. See the <a href=\"https://ipywidgets.readthedocs.io/en/stable/user_install.html\">Jupyter\n",
       "  Widgets Documentation</a> for setup instructions.\n",
       "</p>\n",
       "<p>\n",
       "  If you're reading this message in another frontend (for example, a static\n",
       "  rendering on GitHub or <a href=\"https://nbviewer.jupyter.org/\">NBViewer</a>),\n",
       "  it may mean that your frontend doesn't currently support widgets.\n",
       "</p>\n"
      ],
      "text/plain": [
       "interactive(children=(Dropdown(description='endingStation', options={'Acton Town': '1', 'Aldgate': '2', 'Aldgate East': '3', 'All Saints': '4', 'Alperton': '5', 'Angel': '7', 'Archway': '8', 'Arnos Grove': '9', 'Arsenal': '10', 'Baker Street': '11', 'Balham': '12', 'Bank': '13', 'Barbican': '14', 'Barking': '15', 'Barkingside': '16', 'Barons Court': '17', 'Bayswater': '18', 'Beckton': '19', 'Beckton Park': '20', 'Becontree': '21', 'Belsize Park': '22', 'Bethnal Green': '24', 'Blackfriars': '25', 'Blackhorse Road': '26', 'Blackwall': '27', 'Bond Street': '28', 'Borough': '29', 'Boston Manor': '30', 'Bounds Green': '31', 'Bow Church': '32', 'Bow Road': '33', 'Brent Cross': '34', 'Bromley-By-Bow': '36', 'Burnt Oak': '38', 'Caledonian Road': '39', 'Camden Town': '40', 'Canary Wharf': '42', 'Cannon Street': '44', 'Canons Park': '45', 'Chalk Farm': '47', 'Chancery Lane': '48', 'Charing Cross': '49', 'Chigwell': '51', 'Chiswick Park': '52', 'Clapham Common': '54', 'Clapham North': '55', 'Clapham South': '56', 'Colindale': '58', 'Colliers Wood': '59', 'Covent Garden': '60', 'Crossharbour & London Arena': '61', 'Custom House': '63', 'Cyprus': '65', 'Dagenham East': '66', 'Dagenham Heathway': '67', 'Devons Road': '70', 'Dollis Hill': '71', 'Ealing Broadway': '72', 'Ealing Common': '73', \"Earl's Court\": '74', 'Eastcote': '75', 'East Acton': '76', 'East Finchley': '77', 'East Ham': '78', 'East India': '79', 'East Putney': '80', 'Edgware': '81', 'Edgware Road (B)': '82', 'Edgware Road (C)': '83', 'Elephant & Castle': '84', 'Elm Park': '85', 'Embankment': '87', 'Euston': '89', 'Euston Square': '90', 'Fairlop': '91', 'Farringdon': '92', 'Finchley Central': '93', 'Finchley Road': '94', 'Finsbury Park': '95', 'Fulham Broadway': '96', 'Gallions Reach': '97', 'Gants Hill': '98', 'Gloucester Road': '99', 'Golders Green': '100', 'Goldhawk Road': '101', 'Goodge Street': '102', 'Grange Hill': '103', 'Great Portland Street': '104', 'Greenford': '105', 'Green Park': '107', 'Gunnersbury': '108', 'Hainault': '109', 'Hammersmith': '110', 'Hampstead': '111', 'Hanger Lane': '112', 'Harlesden': '113', 'Harrow & Wealdston': '114', 'Harrow-on-the-Hill': '115', 'Hatton Cross': '116', 'Heathrow Terminals 1, 2 & 3': '117', 'Heathrow Terminal 4': '118', 'Hendon Central': '119', 'Heron Quays': '120', 'High Street Kensington': '122', 'Highbury & Islington': '123', 'Highgate': '124', 'Hillingdon': '125', 'Holborn': '126', 'Holland Park': '127', 'Holloway Road': '128', 'Hornchurch': '129', 'Hounslow Central': '130', 'Hounslow East': '131', 'Hounslow West': '132', 'Hyde Park Corner': '133', 'Ickenham': '134', 'Island Gardens': '135', 'Kennington': '136', 'Kensal Green': '137', 'Kensington (Olympia)': '138', 'Kentish Town': '139', 'Kenton': '140', 'Kew Gardens': '141', 'Kilburn': '142', 'Kilburn Park': '143', 'Kingsbury': '144', \"King's Cross St. Pancras\": '145', 'Knightsbridge': '146', 'Ladbroke Grove': '147', 'Lambeth North': '148', 'Lancaster Gate': '149', 'Latimer Road': '150', 'Leicester Square': '151', 'Leyton': '153', 'Leytonstone': '154', 'Limehouse': '155', 'Liverpool Street': '156', 'London Bridge': '157', 'Maida Vale': '159', 'Manor House': '160', 'Mansion House': '161', 'Marble Arch': '162', 'Marylebone': '163', 'Mile End': '164', 'Mill Hill East': '165', 'Monument': '166', 'Moorgate': '167', 'Moor Park': '168', 'Morden': '169', 'Mornington Crescent': '170', 'Mudchute': '171', 'Neasden': '172', 'Newbury Park': '173', 'Northfields': '176', 'Northolt': '177', 'Northwick Park': '178', 'Northwood': '179', 'Northwood Hills': '180', 'North Acton': '181', 'North Ealing': '182', 'North Harrow': '184', 'North Wembley': '185', 'Notting Hill Gate': '186', 'Old Street': '188', 'Osterley': '190', 'Oval': '191', 'Oxford Circus': '192', 'Paddington': '193', 'Park Royal': '194', 'Parsons Green': '195', 'Perivale': '196', 'Picadilly Circus': '197', 'Pimlico': '198', 'Pinner': '199', 'Plaistow': '200', 'Poplar': '201', 'Preston Road': '202', 'Prince Regent': '203', 'Putney Bridge': '205', \"Queen's Park\": '206', 'Queensbury': '207', 'Queensway': '208', 'Ravenscourt Park': '209', 'Rayners Lane': '210', 'Redbridge': '211', \"Regent's Park\": '212', 'Richmond': '213', 'Roding Valley': '215', 'Rotherhithe': '216', 'Royal Albert': '217', 'Royal Oak': '218', 'Royal Victoria': '219', 'Ruislip': '220', 'Ruislip Manor': '222', 'Russell Square': '223', 'Seven Sisters': '224', 'Shadwell': '225', \"Shepherd's Bush (C)\": '226', \"Shepherd's Bush (H)\": '227', 'Shoreditch': '228', 'Sloane Square': '229', 'Snaresbrook': '230', 'Southfields': '231', 'South Ealing': '234', 'South Harrow': '235', 'South Kensington': '236', 'South Kenton': '237', 'South Quay': '238', 'South Ruislip': '239', 'South Wimbledon': '240', 'South Woodford': '241', 'Stamford Brook': '242', 'Stanmore': '243', 'Stepney Green': '244', 'Stockwell': '245', 'Stonebridge Park': '246', 'Stratford': '247', \"St. James's Park\": '248', \"St. John's Wood\": '249', \"St. Paul's\": '250', 'Sudbury Hill': '251', 'Sudbury Town': '252', 'Surrey Quays': '253', 'Swiss Cottage': '254', 'Temple': '255', 'Tooting Bec': '257', 'Tooting Broadway': '258', 'Tottenham Court Road': '259', 'Tottenham Hale': '260', 'Tower Gateway': '262', 'Tower Hill': '263', 'Tufnell Park': '264', 'Turnham Green': '265', 'Turnpike Lane': '266', 'Upminster': '267', 'Upminster Bridge': '268', 'Upney': '269', 'Upton Park': '270', 'Uxbridge': '271', 'Vauxhall': '272', 'Victoria': '273', 'Walthamstow Central': '274', 'Wanstead': '275', 'Wapping': '276', 'Warren Street': '277', 'Warwick Avenue': '278', 'Waterloo': '279', 'Wembley Central': '281', 'Wembley Park': '282', 'Westbourne Park': '283', 'Westferry': '284', 'Westminster': '285', 'West Acton': '286', 'West Brompton': '287', 'West Finchley': '288', 'West Ham': '289', 'West Hampstead': '290', 'West Harrow': '291', 'West India Quay': '292', 'West Kensington': '293', 'West Ruislip': '294', 'Whitechapel': '295', 'White City': '296', 'Willesden Green': '297', 'Willesden Junction': '298', 'Wimbledon': '299', 'Wimbledon Park': '300', 'Woodford': '301', 'Woodside Park': '302', 'Wood Green': '303', 'Brixton': '35', 'Amersham': '6', 'Bermondsey': '23', 'Chesham': '50', 'Chalfont & Latimer': '46', 'Chorleywood': '53', 'Rickmansworth': '214', 'Croxley': '62', 'Watford': '280', 'Ruislip Gardens': '221', 'High Barnet': '121', 'Totteridge & Whetstone': '261', 'Cockfosters': '57', 'Oakwood': '187', 'Southgate': '232', 'Epping': '88', 'Theydon Bois': '256', 'Debden': '68', 'Loughton': '158', 'Buckhurst Hill': '37', 'Pudding Mill Lane': '204', 'Southwark': '233', 'Canada Water': '41', 'Canning Town': '43', 'North Greenwich': '183', 'Cutty Sark': '64', 'Greenwich': '106', 'Deptford Bridge': '69', 'Elverson Road': '86', 'Lewisham': '152', 'New Cross': '174', 'New Cross Gate': '175'}, value='1'), Output()), _dom_classes=('widget-interact',))"
      ]
     },
     "metadata": {},
     "output_type": "display_data"
    }
   ],
   "source": [
    "nameToId = StationGraph.getNameToId()\n",
    "\n",
    "def f(startingStation):\n",
    "    return startingStation\n",
    "start = interactive(f, startingStation=nameToId)\n",
    "\n",
    "def g(endingStation):\n",
    "    return endingStation\n",
    "end = interactive(g, endingStation=nameToId)\n",
    "\n",
    "display(start)\n",
    "display(end)"
   ]
  },
  {
   "cell_type": "code",
   "execution_count": 18,
   "metadata": {
    "scrolled": false
   },
   "outputs": [
    {
     "name": "stdout",
     "output_type": "stream",
     "text": [
      "Southgate, 232\n",
      "Arnos Grove, 9\n",
      "Bounds Green, 31\n",
      "Wood Green, 303\n",
      "Turnpike Lane, 266\n",
      "Manor House, 160\n",
      "Finsbury Park, 95\n",
      "Highbury & Islington, 123\n",
      "King's Cross St. Pancras, 145\n",
      "Euston Square, 90\n",
      "Great Portland Street, 104\n",
      "Baker Street, 11\n",
      "Finchley Road, 94\n",
      "Wembley Park, 282\n",
      "Preston Road, 202\n",
      "Northwick Park, 178\n",
      "Harrow-on-the-Hill, 115\n",
      "West Harrow, 291\n",
      "Rayners Lane, 210\n",
      "Eastcote, 75\n",
      "Ruislip Manor, 222\n",
      "Ruislip, 220\n",
      "Ickenham, 134\n",
      "Hillingdon, 125\n"
     ]
    }
   ],
   "source": [
    "result = TubeAStar.AStar(start.result, end.result)\n",
    "graph = StationGraph.getGraph()\n",
    "for station in result:\n",
    "    stationData = graph.get(station)\n",
    "    print(stationData[0]+\", \"+station)"
   ]
  },
  {
   "cell_type": "code",
   "execution_count": null,
   "metadata": {},
   "outputs": [],
   "source": []
  }
 ],
 "metadata": {
  "kernelspec": {
   "display_name": "Python 3",
   "language": "python",
   "name": "python3"
  },
  "language_info": {
   "codemirror_mode": {
    "name": "ipython",
    "version": 3
   },
   "file_extension": ".py",
   "mimetype": "text/x-python",
   "name": "python",
   "nbconvert_exporter": "python",
   "pygments_lexer": "ipython3",
   "version": "3.6.4"
  }
 },
 "nbformat": 4,
 "nbformat_minor": 2
}
